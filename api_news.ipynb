{
 "cells": [
  {
   "cell_type": "code",
   "execution_count": 1,
   "metadata": {},
   "outputs": [],
   "source": [
    "# Dependencies\n",
    "import tweepy\n",
    "import numpy as np\n",
    "import pandas as pd\n",
    "from datetime import datetime\n",
    "import matplotlib.pyplot as plt\n",
    "from matplotlib import style\n",
    "style.use('ggplot')\n",
    "\n",
    "# Import and Initialize Sentiment Analyzer\n",
    "from vaderSentiment.vaderSentiment import SentimentIntensityAnalyzer\n",
    "analyzer = SentimentIntensityAnalyzer()\n",
    "\n",
    "# Twitter API Keys\n",
    "from config import (consumer_key, \n",
    "                    consumer_secret, \n",
    "                    access_token, \n",
    "                    access_token_secret)\n",
    "\n",
    "# Setup Tweepy API Authentication\n",
    "auth = tweepy.OAuthHandler(consumer_key, consumer_secret)\n",
    "auth.set_access_token(access_token, access_token_secret)\n",
    "api = tweepy.API(auth, parser=tweepy.parsers.JSONParser())"
   ]
  },
  {
   "cell_type": "code",
   "execution_count": 2,
   "metadata": {},
   "outputs": [],
   "source": [
    "# Array to hold sentiment\n",
    "sentiments = []"
   ]
  },
  {
   "cell_type": "code",
   "execution_count": 3,
   "metadata": {},
   "outputs": [],
   "source": [
    "target_users = ['@BBC', '@CBS', '@CNN', '@Foxnews', 'NYT']\n",
    "compound_array = []\n",
    "pos_array = []\n",
    "neg_array = []\n",
    "neu_array = []"
   ]
  },
  {
   "cell_type": "code",
   "execution_count": 4,
   "metadata": {},
   "outputs": [],
   "source": [
    "\n",
    "for user in target_users:\n",
    "    # Obtain tweets\n",
    "    public_tweets = api.search(user, count=500, result_type=\"recent\")\n",
    "    \n",
    "    # Perform sentiment analysis \n",
    "    sent_results = [analyzer.polarity_scores(tweet['text']) for tweet in public_tweets['statuses']]\n",
    "    \n",
    "    # Get individual sentiments\n",
    "    compound = [tweet['compound'] for tweet in sent_results]\n",
    "    comp_dict = {user:compound}\n",
    "    compound_array.append(comp_dict)\n",
    "    \n",
    "    pos = [tweet['pos'] for tweet in sent_results]\n",
    "    pos_dict = {user:compound}\n",
    "    pos_array.append(pos_dict)\n",
    "    \n",
    "    neg = [tweet['neg'] for tweet in sent_results]\n",
    "    neg_dict = {user:compound}\n",
    "    neg_array.append(neg_dict)\n",
    "    \n",
    "    neu = [tweet['neu'] for tweet in sent_results]\n",
    "    neu_dict = {user:compound}\n",
    "    neu_array.append(neu_dict)"
   ]
  },
  {
   "cell_type": "code",
   "execution_count": 5,
   "metadata": {},
   "outputs": [
    {
     "data": {
      "text/html": [
       "<div>\n",
       "<style scoped>\n",
       "    .dataframe tbody tr th:only-of-type {\n",
       "        vertical-align: middle;\n",
       "    }\n",
       "\n",
       "    .dataframe tbody tr th {\n",
       "        vertical-align: top;\n",
       "    }\n",
       "\n",
       "    .dataframe thead th {\n",
       "        text-align: right;\n",
       "    }\n",
       "</style>\n",
       "<table border=\"1\" class=\"dataframe\">\n",
       "  <thead>\n",
       "    <tr style=\"text-align: right;\">\n",
       "      <th></th>\n",
       "      <th>@BBC</th>\n",
       "      <th>@CBS</th>\n",
       "      <th>@CNN</th>\n",
       "      <th>@Foxnews</th>\n",
       "      <th>NYT</th>\n",
       "    </tr>\n",
       "  </thead>\n",
       "  <tbody>\n",
       "    <tr>\n",
       "      <th>0</th>\n",
       "      <td>-0.6808</td>\n",
       "      <td>0.0000</td>\n",
       "      <td>-0.4767</td>\n",
       "      <td>0.1779</td>\n",
       "      <td>0.5719</td>\n",
       "    </tr>\n",
       "    <tr>\n",
       "      <th>1</th>\n",
       "      <td>0.0000</td>\n",
       "      <td>0.0000</td>\n",
       "      <td>-0.2924</td>\n",
       "      <td>-0.2023</td>\n",
       "      <td>0.5719</td>\n",
       "    </tr>\n",
       "    <tr>\n",
       "      <th>2</th>\n",
       "      <td>0.0000</td>\n",
       "      <td>0.5410</td>\n",
       "      <td>-0.4585</td>\n",
       "      <td>0.4588</td>\n",
       "      <td>0.5719</td>\n",
       "    </tr>\n",
       "    <tr>\n",
       "      <th>3</th>\n",
       "      <td>-0.6808</td>\n",
       "      <td>0.7351</td>\n",
       "      <td>-0.3400</td>\n",
       "      <td>-0.4767</td>\n",
       "      <td>-0.4215</td>\n",
       "    </tr>\n",
       "    <tr>\n",
       "      <th>4</th>\n",
       "      <td>-0.6808</td>\n",
       "      <td>0.0000</td>\n",
       "      <td>0.0000</td>\n",
       "      <td>-0.3182</td>\n",
       "      <td>0.5719</td>\n",
       "    </tr>\n",
       "  </tbody>\n",
       "</table>\n",
       "</div>"
      ],
      "text/plain": [
       "     @BBC    @CBS    @CNN  @Foxnews     NYT\n",
       "0 -0.6808  0.0000 -0.4767    0.1779  0.5719\n",
       "1  0.0000  0.0000 -0.2924   -0.2023  0.5719\n",
       "2  0.0000  0.5410 -0.4585    0.4588  0.5719\n",
       "3 -0.6808  0.7351 -0.3400   -0.4767 -0.4215\n",
       "4 -0.6808  0.0000  0.0000   -0.3182  0.5719"
      ]
     },
     "execution_count": 5,
     "metadata": {},
     "output_type": "execute_result"
    }
   ],
   "source": [
    "\n",
    "# Compound scores dataframe for each media source# Compou \n",
    "\n",
    "df = []\n",
    "for x in np.arange(0,len(compound_array)):\n",
    "    compound_df = pd.DataFrame(compound_array[x])\n",
    "    df.append(compound_df)\n",
    "\n",
    "result = pd.concat(df, axis=1)\n",
    "result.head()"
   ]
  },
  {
   "cell_type": "code",
   "execution_count": 6,
   "metadata": {},
   "outputs": [
    {
     "data": {
      "text/html": [
       "<div>\n",
       "<style scoped>\n",
       "    .dataframe tbody tr th:only-of-type {\n",
       "        vertical-align: middle;\n",
       "    }\n",
       "\n",
       "    .dataframe tbody tr th {\n",
       "        vertical-align: top;\n",
       "    }\n",
       "\n",
       "    .dataframe thead th {\n",
       "        text-align: right;\n",
       "    }\n",
       "</style>\n",
       "<table border=\"1\" class=\"dataframe\">\n",
       "  <thead>\n",
       "    <tr style=\"text-align: right;\">\n",
       "      <th></th>\n",
       "    </tr>\n",
       "  </thead>\n",
       "  <tbody>\n",
       "  </tbody>\n",
       "</table>\n",
       "</div>"
      ],
      "text/plain": [
       "Empty DataFrame\n",
       "Columns: []\n",
       "Index: []"
      ]
     },
     "execution_count": 6,
     "metadata": {},
     "output_type": "execute_result"
    }
   ],
   "source": [
    "# Convert sentiments to DataFrame# Conve \n",
    "sentiments_pd = pd.DataFrame.from_dict(sentiments)\n",
    "sentiments_pd.head()"
   ]
  },
  {
   "cell_type": "code",
   "execution_count": 7,
   "metadata": {},
   "outputs": [],
   "source": [
    "# Export data in dataframe into a csv file# Expor \n",
    "sentiments_pd.to_csv(\"api_news.csv\", index=False)"
   ]
  },
  {
   "cell_type": "code",
   "execution_count": 8,
   "metadata": {},
   "outputs": [
    {
     "data": {
      "text/html": [
       "<div>\n",
       "<style scoped>\n",
       "    .dataframe tbody tr th:only-of-type {\n",
       "        vertical-align: middle;\n",
       "    }\n",
       "\n",
       "    .dataframe tbody tr th {\n",
       "        vertical-align: top;\n",
       "    }\n",
       "\n",
       "    .dataframe thead th {\n",
       "        text-align: right;\n",
       "    }\n",
       "</style>\n",
       "<table border=\"1\" class=\"dataframe\">\n",
       "  <thead>\n",
       "    <tr style=\"text-align: right;\">\n",
       "      <th></th>\n",
       "      <th>Media Source</th>\n",
       "      <th>Avg Compound Score</th>\n",
       "      <th>Avg Pos Score</th>\n",
       "      <th>Avg Neg Score</th>\n",
       "      <th>Avg Neu Score</th>\n",
       "    </tr>\n",
       "  </thead>\n",
       "  <tbody>\n",
       "    <tr>\n",
       "      <th>0</th>\n",
       "      <td>@BBC</td>\n",
       "      <td>-0.142054</td>\n",
       "      <td>-0.142054</td>\n",
       "      <td>-0.142054</td>\n",
       "      <td>-0.142054</td>\n",
       "    </tr>\n",
       "    <tr>\n",
       "      <th>1</th>\n",
       "      <td>@CBS</td>\n",
       "      <td>0.153515</td>\n",
       "      <td>0.153515</td>\n",
       "      <td>0.153515</td>\n",
       "      <td>0.153515</td>\n",
       "    </tr>\n",
       "    <tr>\n",
       "      <th>2</th>\n",
       "      <td>@CNN</td>\n",
       "      <td>-0.184965</td>\n",
       "      <td>-0.184965</td>\n",
       "      <td>-0.184965</td>\n",
       "      <td>-0.184965</td>\n",
       "    </tr>\n",
       "    <tr>\n",
       "      <th>3</th>\n",
       "      <td>@Foxnews</td>\n",
       "      <td>-0.063512</td>\n",
       "      <td>-0.063512</td>\n",
       "      <td>-0.063512</td>\n",
       "      <td>-0.063512</td>\n",
       "    </tr>\n",
       "    <tr>\n",
       "      <th>4</th>\n",
       "      <td>NYT</td>\n",
       "      <td>0.191999</td>\n",
       "      <td>0.191999</td>\n",
       "      <td>0.191999</td>\n",
       "      <td>0.191999</td>\n",
       "    </tr>\n",
       "  </tbody>\n",
       "</table>\n",
       "</div>"
      ],
      "text/plain": [
       "  Media Source  Avg Compound Score  Avg Pos Score  Avg Neg Score  \\\n",
       "0         @BBC           -0.142054      -0.142054      -0.142054   \n",
       "1         @CBS            0.153515       0.153515       0.153515   \n",
       "2         @CNN           -0.184965      -0.184965      -0.184965   \n",
       "3     @Foxnews           -0.063512      -0.063512      -0.063512   \n",
       "4          NYT            0.191999       0.191999       0.191999   \n",
       "\n",
       "   Avg Neu Score  \n",
       "0      -0.142054  \n",
       "1       0.153515  \n",
       "2      -0.184965  \n",
       "3      -0.063512  \n",
       "4       0.191999  "
      ]
     },
     "execution_count": 8,
     "metadata": {},
     "output_type": "execute_result"
    }
   ],
   "source": [
    "\n",
    "# Create dataframe with average scores for every media source# Create \n",
    "df = []\n",
    "positive_df = []\n",
    "negative_df = []\n",
    "neutral_df = []\n",
    "for x in np.arange(0,len(compound_array)):\n",
    "    compound_df = pd.DataFrame(compound_array[x])\n",
    "    pos_df = pd.DataFrame(pos_array[x])\n",
    "    neg_df = pd.DataFrame(neg_array[x])\n",
    "    neu_df = pd.DataFrame(neu_array[x])\n",
    "    \n",
    "    df.append(compound_df)\n",
    "    positive_df.append(pos_df)\n",
    "    negative_df.append(neg_df)\n",
    "    neutral_df.append(neu_df)\n",
    "    \n",
    "compound_results = pd.concat(df, axis=1)\n",
    "compound_mean = pd.DataFrame(np.mean(compound_results)).reset_index()\n",
    "compound_mean.columns.values[1] = 'Avg Compound Score'\n",
    "\n",
    "pos_results = pd.concat(positive_df, axis=1)\n",
    "pos_mean = pd.DataFrame(np.mean(pos_results)).reset_index()\n",
    "pos_mean.columns.values[1] = 'Avg Pos Score'\n",
    "\n",
    "neg_results = pd.concat(negative_df, axis=1)\n",
    "neg_mean = pd.DataFrame(np.mean(neg_results)).reset_index()\n",
    "neg_mean.columns.values[1] = 'Avg Neg Score'\n",
    "\n",
    "neu_results = pd.concat(neutral_df, axis=1)\n",
    "neu_mean = pd.DataFrame(np.mean(neu_results)).reset_index()\n",
    "neu_mean.columns.values[1] = 'Avg Neu Score'\n",
    "\n",
    "comp_pos = compound_mean.merge(pos_mean, how = 'outer', on = 'index')\n",
    "neg_neu = neg_mean.merge(neu_mean, how = 'outer', on = 'index')\n",
    "avg_scores = comp_pos.merge(neg_neu, how = 'outer', on = 'index')\n",
    "\n",
    "avg_scores.columns.values[0] = \"Media Source\"\n",
    "\n",
    "avg_scores"
   ]
  },
  {
   "cell_type": "code",
   "execution_count": 9,
   "metadata": {},
   "outputs": [
    {
     "data": {
      "image/png": "[encoded data removed]",
      "text/plain": [
       "<matplotlib.figure.Figure at 0x10a4595c0>"
      ]
     },
     "metadata": {},
     "output_type": "display_data"
    },
    {
     "data": {
      "text/plain": [
       "<matplotlib.figure.Figure at 0x10ef82ba8>"
      ]
     },
     "metadata": {},
     "output_type": "display_data"
    }
   ],
   "source": [
    "\n",
    "# Scatter showing compound score for all media sources# Scatte \n",
    "tweet_ago = np.arange(0,len(result))\n",
    "plt.figure(figsize=(10,5))\n",
    "plt.title(\"Sentiment Analysis of Media Tweets\")\n",
    "plt.xlabel(\"Tweets Ago\")\n",
    "plt.ylabel(\"Tweet Polarity\")\n",
    "plt.xlim(len(result), -1)\n",
    "[plt.scatter(tweet_ago,result[user],marker = \"o\",edgecolors=\"black\", alpha='0.5') for user in result]\n",
    "plt.legend(bbox_to_anchor=(1,1), loc='upper left', ncol=1, title=\"Media Sources\")\n",
    "plt.show()\n",
    "plt.savefig(\"Sentiment_Analysis_of_Media_Tweets\")  "
   ]
  },
  {
   "cell_type": "code",
   "execution_count": 10,
   "metadata": {},
   "outputs": [
    {
     "data": {
      "image/png": "[encoded data removed]",
      "text/plain": [
       "<matplotlib.figure.Figure at 0x10f01ab70>"
      ]
     },
     "metadata": {},
     "output_type": "display_data"
    },
    {
     "data": {
      "text/plain": [
       "<matplotlib.figure.Figure at 0x10ee78c18>"
      ]
     },
     "metadata": {},
     "output_type": "display_data"
    }
   ],
   "source": [
    "# Average compound score for bar graph\n",
    "results_mean = np.mean(result)\n",
    "tweet_ago = np.arange(0,len(results_mean))\n",
    "plt.figure(figsize=(10,5))\n",
    "plt.title(\"Overall Media Sentiment Based on Twitter\")\n",
    "plt.xlabel(\"News Source\")\n",
    "plt.ylabel(\"Tweet Polarity\")\n",
    "labels = [user.replace(\"@\",\"\") for user in target_users]\n",
    "plt.xticks(tweet_ago, labels)\n",
    "colors = ['red', 'blue', 'yellow', 'green', 'black']\n",
    "plt.bar(tweet_ago,results_mean, color=colors) \n",
    "plt.show()\n",
    "plt.savefig(\"Overall_Media_Sentiment_Based_on_Twitter\")  "
   ]
  },
  {
   "cell_type": "code",
   "execution_count": 11,
   "metadata": {},
   "outputs": [],
   "source": [
    "#Written Trends\n",
    "#1. CBS has a larger tweet polarity/most positive. \n",
    "#2. Most tweets have a compound score near 0. \n",
    "#3. CNN & BBC have the most negative tweets amongst the news sources."
   ]
  },
  {
   "cell_type": "code",
   "execution_count": null,
   "metadata": {},
   "outputs": [],
   "source": []
  }
 ],
 "metadata": {
  "kernelspec": {
   "display_name": "Python 3",
   "language": "python",
   "name": "python3"
  },
  "language_info": {
   "codemirror_mode": {
    "name": "ipython",
    "version": 3
   },
   "file_extension": ".py",
   "mimetype": "text/x-python",
   "name": "python",
   "nbconvert_exporter": "python",
   "pygments_lexer": "ipython3",
   "version": "3.6.4"
  }
 },
 "nbformat": 4,
 "nbformat_minor": 2
}
